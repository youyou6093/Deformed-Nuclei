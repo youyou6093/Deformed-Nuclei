{
 "cells": [
  {
   "cell_type": "code",
   "execution_count": null,
   "metadata": {
    "collapsed": true
   },
   "outputs": [],
   "source": [
    "import numpy as np\n",
    "from angular import Angular_dependence\n",
    "import matplotlib.pyplot as plt\n",
    "%matplotlib inline"
   ]
  },
  {
   "cell_type": "code",
   "execution_count": null,
   "metadata": {
    "collapsed": true
   },
   "outputs": [],
   "source": [
    "# get all possible_j from k1 and L\n",
    "def get_possible_j(k1, L):\n",
    "    j1 = abs(k1) - 0.5\n",
    "    x = abs(j1 - L)\n",
    "    j = []\n",
    "    while abs(x - abs(j1 + L + 1)) > 1e-6  :\n",
    "        j.append(x)\n",
    "        x += 1\n",
    "    return j # didn't consider the parity clebsh, but the 3j symbol will handle that.\n",
    "\n",
    "# get all possible kappa from j\n",
    "def get_possible_k(j):\n",
    "    k = []\n",
    "    for i in j:\n",
    "        x = int(i + 0.5)\n",
    "        k.append(x)\n",
    "        k.append(-x)\n",
    "    return k\n",
    "\n",
    "#read potential, density..\n",
    "def read_data(name):\n",
    "    f = open(name)\n",
    "    N = 801\n",
    "    fx = np.zeros(N)\n",
    "    y = np.zeros((N, 4))\n",
    "    pos = 0\n",
    "    for i in f:\n",
    "        a, b, c , d, e = i.split()\n",
    "        a,b,c,d,e = float(a), float(b), float(c), float(d), float(e)\n",
    "        fx[pos] = a\n",
    "        y[pos] = np.array([b,c,d,e])\n",
    "        pos += 1\n",
    "    return fx, y\n",
    "\n",
    "#read_wavefunction to a dic\n",
    "def read_wavefunction(lo, up):\n",
    "    for k in range(lo, up + 1):\n",
    "        if k!=0:\n",
    "            #open the file with that wavefunction\n",
    "            f = open('wavefunction' + str(k) + '.txt')\n",
    "            fx = np.zeros(N)\n",
    "            y = np.zeros((N,2))\n",
    "            pos = 0\n",
    "            for i in f:\n",
    "                global m\n",
    "                a, b, c, m = [float(ii) for ii in i.split()]\n",
    "                fx[pos] = a\n",
    "                y[pos] = np.array([b,c])\n",
    "                pos += 1\n",
    "            wavefunction_dic[k] = y.copy()\n",
    "\n",
    "\n",
    "#this is not actually potential, but all the radial part\n",
    "def Combine_wavefunction_up(k1, L, m, potential_up):\n",
    "    j = get_possible_j(k1, L)         # all the possible j the original kappa and L kapple to \n",
    "    k2_group = get_possible_k(j)      # all the possible kappa2 from this j\n",
    "    for k2 in k2_group:               \n",
    "        if k2 in kprime_part_up:\n",
    "            # potential is everything on the left, and we also have the upper part of the wavefucntion(radial)\n",
    "            kprime_part_up[k2] += potential_up * Angular_dependence(m, k1, k2, L) * np.sqrt(4 * np.pi / (2 * L + 1))\n",
    "        else:\n",
    "            kprime_part_up[k2] = potential_up * Angular_dependence(m, k1, k2, L) * np.sqrt(4 * np.pi / (2 * L + 1))\n",
    "\n",
    "def Combine_wavefunction_lo(k1, L, m, potential_lo):\n",
    "    j = get_possible_j(k1, L)         # all the possible j the original kappa and L kapple to \n",
    "    k2_group = get_possible_k(j)      # all the possible kappa2 from this j\n",
    "    for k2 in k2_group:\n",
    "        if k2 in kprime_part_lo:\n",
    "            # potential is everything on the left, and we also have the upper part of the wavefucntion(radial)\n",
    "            kprime_part_lo[k2] += potential_lo * Angular_dependence(m, k1, k2, L) * np.sqrt(4 * np.pi / (2 * L + 1))\n",
    "        else:\n",
    "            kprime_part_lo[k2] = potential_lo * Angular_dependence(m, k1, k2, L) * np.sqrt(4 * np.pi / (2 * L + 1))        "
   ]
  },
  {
   "cell_type": "code",
   "execution_count": null,
   "metadata": {
    "collapsed": false
   },
   "outputs": [],
   "source": [
    "#test for the protons\n",
    "#construct non-symmetric part\n",
    "kmin = -11\n",
    "kmax = +11\n",
    "maxL = 4\n",
    "E = (-53.9884 + 939) / 197.326\n",
    "h = 0.025\n",
    "N = 801z\n",
    "fx = np.arange(0,20 + h,h)\n",
    "second_d = np.array([1., -2., 1]) / h **2 \n",
    "first_d = np.array([-1,0,1]) / (2 * h)\n",
    "wavefunction_dic = {}\n",
    "parameter = -1\n",
    "dipole = fx * parameter * np.sqrt(3.0/4/np.pi) / 197.326\n",
    "\n",
    "all_pt = []\n",
    "for i in range(maxL):\n",
    "    fx, pot = read_data('potential' + str(i) + '.txt')\n",
    "    all_pt.append(pot.copy() / 197.326)\n",
    "\n",
    "read_wavefunction(kmin, kmax)\n",
    "\n",
    "# get list of kappa for a single solution\n",
    "# for every k and for every L, find the poosible k prime\n",
    "# construct a list for every k.\n",
    "kprime_part_up = {}\n",
    "kprime_part_lo = {}\n",
    "\n",
    "for i in range(maxL):\n",
    "    potential_up = - all_pt[i][:,0]  + all_pt[i][:,1] + 0.5 * all_pt[i][:,2] + all_pt[i][:,3]\n",
    "    potential_lo = all_pt[i][:,0] + all_pt[i][:,1] + 0.5 * all_pt[i][:,2] + all_pt[i][:,3]\n",
    "    if i == 0:\n",
    "        potential_up = potential_up + 939/197.326\n",
    "        potential_lo = potential_lo - 939/197.326\n",
    "    if i == 1:\n",
    "        # minus sign is for proton, and this dipole potential is in vector potential part\n",
    "        potential_up = potential_up - dipole          \n",
    "        potential_lo = potential_lo - dipole\n",
    "    for k in range(kmin, kmax + 1):\n",
    "        if k != 0:\n",
    "#             print 2\n",
    "            Combine_wavefunction_up(k, i, m, potential_up * wavefunction_dic[k][:,0] / fx)\n",
    "            Combine_wavefunction_lo(k, i, m, potential_lo * wavefunction_dic[k][:,1] / fx)\n",
    "    "
   ]
  },
  {
   "cell_type": "code",
   "execution_count": null,
   "metadata": {
    "collapsed": false
   },
   "outputs": [],
   "source": [
    "# construct the symmetric part\n",
    "kpart_up = {}\n",
    "kpart_lo = {}\n",
    "for k in range(kmin,kmax + 1):\n",
    "    if k!=0:\n",
    "        kpart_up[k] = np.correlate(wavefunction_dic[k][:,1] / fx , first_d, 'same') - \\\n",
    "            ( k - 1 ) / fx**2 * wavefunction_dic[k][:,1] + E * wavefunction_dic[k][:,0] / fx\n",
    "        kpart_lo[k] = - np.correlate(wavefunction_dic[k][:,0] / fx , first_d, 'same') - \\\n",
    "            ( k + 1 ) / fx**2 * wavefunction_dic[k][:,0] + E * wavefunction_dic[k][:,1] / fx\n",
    "        "
   ]
  },
  {
   "cell_type": "code",
   "execution_count": null,
   "metadata": {
    "collapsed": false
   },
   "outputs": [],
   "source": [
    "plt.plot(fx, kprime_part_up[12],'r-',fx,fx * 0,'b-')"
   ]
  },
  {
   "cell_type": "code",
   "execution_count": null,
   "metadata": {
    "collapsed": false
   },
   "outputs": [],
   "source": [
    "print kpart_up.keys()\n",
    "print kprime_part_up.keys()"
   ]
  },
  {
   "cell_type": "code",
   "execution_count": null,
   "metadata": {
    "collapsed": true
   },
   "outputs": [],
   "source": []
  }
 ],
 "metadata": {
  "kernelspec": {
   "display_name": "Python 2",
   "language": "python",
   "name": "python2"
  },
  "language_info": {
   "codemirror_mode": {
    "name": "ipython",
    "version": 2
   },
   "file_extension": ".py",
   "mimetype": "text/x-python",
   "name": "python",
   "nbconvert_exporter": "python",
   "pygments_lexer": "ipython2",
   "version": "2.7.13"
  }
 },
 "nbformat": 4,
 "nbformat_minor": 2
}
