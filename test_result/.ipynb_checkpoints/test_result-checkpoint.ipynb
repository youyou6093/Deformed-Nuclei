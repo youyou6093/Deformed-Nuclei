{
 "cells": [
  {
   "cell_type": "code",
   "execution_count": 1,
   "metadata": {
    "collapsed": true
   },
   "outputs": [],
   "source": [
    "import scipy\n",
    "import numpy as np\n",
    "import matplotlib.pyplot as plt\n",
    "from scipy.integrate import simps\n",
    "%matplotlib inline"
   ]
  },
  {
   "cell_type": "code",
   "execution_count": 2,
   "metadata": {
    "collapsed": false
   },
   "outputs": [
    {
     "ename": "IOError",
     "evalue": "[Errno 2] No such file or directory: 'potential1.txt'",
     "output_type": "error",
     "traceback": [
      "\u001b[0;31m---------------------------------------------------------------------------\u001b[0m",
      "\u001b[0;31mIOError\u001b[0m                                   Traceback (most recent call last)",
      "\u001b[0;32m<ipython-input-2-5e3b4d351700>\u001b[0m in \u001b[0;36m<module>\u001b[0;34m()\u001b[0m\n\u001b[1;32m     63\u001b[0m \u001b[0mfx\u001b[0m\u001b[0;34m,\u001b[0m \u001b[0mpot\u001b[0m \u001b[0;34m=\u001b[0m \u001b[0mread_data\u001b[0m\u001b[0;34m(\u001b[0m\u001b[0;34m'potential0.txt'\u001b[0m\u001b[0;34m)\u001b[0m\u001b[0;34m\u001b[0m\u001b[0m\n\u001b[1;32m     64\u001b[0m \u001b[0mfx\u001b[0m\u001b[0;34m,\u001b[0m \u001b[0mden\u001b[0m \u001b[0;34m=\u001b[0m \u001b[0mread_data\u001b[0m\u001b[0;34m(\u001b[0m\u001b[0;34m'density0.txt'\u001b[0m\u001b[0;34m)\u001b[0m\u001b[0;34m\u001b[0m\u001b[0m\n\u001b[0;32m---> 65\u001b[0;31m \u001b[0mfx\u001b[0m\u001b[0;34m,\u001b[0m \u001b[0mpot1\u001b[0m \u001b[0;34m=\u001b[0m \u001b[0mread_data\u001b[0m\u001b[0;34m(\u001b[0m\u001b[0;34m'potential1.txt'\u001b[0m\u001b[0;34m)\u001b[0m\u001b[0;34m\u001b[0m\u001b[0m\n\u001b[0m\u001b[1;32m     66\u001b[0m \u001b[0mfx\u001b[0m\u001b[0;34m,\u001b[0m \u001b[0mden1\u001b[0m \u001b[0;34m=\u001b[0m \u001b[0mread_data\u001b[0m\u001b[0;34m(\u001b[0m\u001b[0;34m'density1.txt'\u001b[0m\u001b[0;34m)\u001b[0m\u001b[0;34m\u001b[0m\u001b[0m\n\u001b[1;32m     67\u001b[0m \u001b[0mfx\u001b[0m\u001b[0;34m,\u001b[0m \u001b[0mpot2\u001b[0m \u001b[0;34m=\u001b[0m \u001b[0mread_data\u001b[0m\u001b[0;34m(\u001b[0m\u001b[0;34m'potential2.txt'\u001b[0m\u001b[0;34m)\u001b[0m\u001b[0;34m\u001b[0m\u001b[0m\n",
      "\u001b[0;32m<ipython-input-2-5e3b4d351700>\u001b[0m in \u001b[0;36mread_data\u001b[0;34m(name)\u001b[0m\n\u001b[1;32m     32\u001b[0m \u001b[0;34m\u001b[0m\u001b[0m\n\u001b[1;32m     33\u001b[0m \u001b[0;32mdef\u001b[0m \u001b[0mread_data\u001b[0m\u001b[0;34m(\u001b[0m\u001b[0mname\u001b[0m\u001b[0;34m)\u001b[0m\u001b[0;34m:\u001b[0m\u001b[0;34m\u001b[0m\u001b[0m\n\u001b[0;32m---> 34\u001b[0;31m     \u001b[0mf\u001b[0m \u001b[0;34m=\u001b[0m \u001b[0mopen\u001b[0m\u001b[0;34m(\u001b[0m\u001b[0mname\u001b[0m\u001b[0;34m)\u001b[0m\u001b[0;34m\u001b[0m\u001b[0m\n\u001b[0m\u001b[1;32m     35\u001b[0m     \u001b[0mN\u001b[0m \u001b[0;34m=\u001b[0m \u001b[0;36m801\u001b[0m\u001b[0;34m\u001b[0m\u001b[0m\n\u001b[1;32m     36\u001b[0m     \u001b[0mfx\u001b[0m \u001b[0;34m=\u001b[0m \u001b[0mnp\u001b[0m\u001b[0;34m.\u001b[0m\u001b[0mzeros\u001b[0m\u001b[0;34m(\u001b[0m\u001b[0mN\u001b[0m\u001b[0;34m)\u001b[0m\u001b[0;34m\u001b[0m\u001b[0m\n",
      "\u001b[0;31mIOError\u001b[0m: [Errno 2] No such file or directory: 'potential1.txt'"
     ]
    }
   ],
   "source": [
    "def transform(filename1):\n",
    "    f=open(filename1,'r')\n",
    "    parameters_read=[]\n",
    "    for i in f:\n",
    "        if i.split()!=[]:\n",
    "            # print i.split()\n",
    "            parameters_read.append((i.split()[0]))\n",
    "    for i in range(len(parameters_read)-1):\n",
    "        parameters_read[i]=float(parameters_read[i])\n",
    "    global ms,mv,mp,mg,gs,gv,gp,gg\n",
    "    #print parameters_read\n",
    "    ms=parameters_read[0]\n",
    "    mv=parameters_read[1]\n",
    "    mp=parameters_read[2]\n",
    "    mg=parameters_read[3]\n",
    "    gs=parameters_read[4]\n",
    "    gv=parameters_read[5]\n",
    "    gp=parameters_read[6]\n",
    "    gg=parameters_read[7]\n",
    "    lambdas=parameters_read[8]\n",
    "    lambdav=parameters_read[9]\n",
    "    lamda=parameters_read[10]\n",
    "    ks=parameters_read[11]\n",
    "    ka=parameters_read[12]\n",
    "    LLL=parameters_read[13]\n",
    "    JJJ=parameters_read[14]\n",
    "    print ','.join([str(i) for i in [ms,mv,mp,mg]])\n",
    "    print ','.join([str(i) for i in [gs,gv,gp,gg]])  \n",
    "    print ','.join([str(i) for i in [ka,0,0]])  \n",
    "    print ','.join([str(i) for i in [lamda,lambdas,0]])  \n",
    "    print ','.join([str(i) for i in [ks,lambdav,0]])\n",
    "\n",
    "def read_data(name):\n",
    "    f = open(name)\n",
    "    N = 801\n",
    "    fx = np.zeros(N)\n",
    "    y = np.zeros((N, 4))\n",
    "    pos = 0\n",
    "    for i in f:\n",
    "        a, b, c , d, e = i.split()\n",
    "        a,b,c,d,e = float(a), float(b), float(c), float(d), float(e)\n",
    "        fx[pos] = a\n",
    "        y[pos] = np.array([b,c,d,e])\n",
    "        pos += 1\n",
    "    return fx, y\n",
    "\n",
    "#the input potential is in Mev, the input m is also in Mev\n",
    "#this g is actually \n",
    "def compute_density(Potential, g, m):\n",
    "    m = m / 197.326\n",
    "    potential = Potential / 197.326\n",
    "    derivate_1d = np.correlate(potential, first_d, 'same') * fx ** 2\n",
    "    derivate_1d[0] = 0\n",
    "    derivate_1d[-1] = derivate_1d[-2]\n",
    "    derivate_2d = np.correlate(derivate_1d, first_d, 'same') / fx ** 2\n",
    "    derivate_2d[-1] = derivate_2d[-2]\n",
    "    return -(derivate_2d - m ** 2 * potential) / g\n",
    "\n",
    "h = 0.025\n",
    "fx = np.arange(0,20 + h,h)\n",
    "second_d = np.array([1., -2., 1]) / h **2 \n",
    "first_d = np.array([-1,0,1]) / (2 * h)\n",
    "fx, pot = read_data('potential0.txt')\n",
    "fx, den = read_data('density0.txt')\n",
    "fx, pot1 = read_data('potential1.txt')\n",
    "fx, den1 = read_data('density1.txt')\n",
    "fx, pot2 = read_data('potential2.txt')\n",
    "fx, den2 = read_data('density2.txt')\n",
    "transform('parameter_linear.txt')"
   ]
  },
  {
   "cell_type": "code",
   "execution_count": null,
   "metadata": {
    "collapsed": false
   },
   "outputs": [],
   "source": [
    "computed_density = compute_density(pot[:,1], gv, mv)\n",
    "plt.plot(fx, computed_density, 'r-', fx, den[:,1], 'b-')\n",
    "# plt.xlim(0.3,0.35)\n",
    "# plt.ylim(0.1780,0.1795)"
   ]
  },
  {
   "cell_type": "code",
   "execution_count": null,
   "metadata": {
    "collapsed": false
   },
   "outputs": [],
   "source": [
    "computed_density = compute_density(pot1[:,3], gg , mg)\n",
    "plt.plot(fx, computed_density, 'r-', fx, den1[:,3], 'b-')\n",
    "plt.xlim(0,1)"
   ]
  },
  {
   "cell_type": "code",
   "execution_count": null,
   "metadata": {
    "collapsed": false
   },
   "outputs": [],
   "source": [
    "0.025 ** 4"
   ]
  },
  {
   "cell_type": "code",
   "execution_count": null,
   "metadata": {
    "collapsed": true
   },
   "outputs": [],
   "source": []
  }
 ],
 "metadata": {
  "kernelspec": {
   "display_name": "Python 2",
   "language": "python",
   "name": "python2"
  },
  "language_info": {
   "codemirror_mode": {
    "name": "ipython",
    "version": 2
   },
   "file_extension": ".py",
   "mimetype": "text/x-python",
   "name": "python",
   "nbconvert_exporter": "python",
   "pygments_lexer": "ipython2",
   "version": "2.7.13"
  }
 },
 "nbformat": 4,
 "nbformat_minor": 2
}
